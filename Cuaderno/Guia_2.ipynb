{
 "cells": [
  {
   "cell_type": "markdown",
   "metadata": {
    "id": "sVxeQki8vRXz"
   },
   "source": [
    "# **Guía 2**\n",
    "\n",
    "Objetivo: aplicar los conceptos de Pandas en la manipulación y análisis de datos estructurados. Se trabajará con Series y DataFrames, aplicando técnicas de acceso, selección, filtrado y agregación de datos.\n",
    "\n",
    "### **Caso de Negocio: Análisis de Deserción de Clientes en una Empresa de Telecomunicaciones**\n",
    "\n",
    "**Contexto**\n",
    "\n",
    "En la industria de las telecomunicaciones, la retención de clientes es un factor crítico para la sostenibilidad del negocio. La competencia es feroz y adquirir nuevos clientes suele ser más costoso que mantener a los actuales. En este análisis, exploraremos un conjunto de datos que contiene información detallada sobre clientes que han abandonado el servicio (churn) y aquellos que permanecen activos.\n",
    "\n",
    "Nuestro objetivo es identificar los factores clave que influyen en la deserción, comprender patrones de comportamiento y generar estrategias efectivas para reducir la tasa de abandono.\n",
    "\n",
    "La empresa ha experimentado un aumento en la tasa de deserción de clientes, lo que ha provocado:\n",
    "- Pérdida de ingresos recurrentes.\n",
    "- Incremento en los costos de adquisición de nuevos clientes.\n",
    "- Menor estabilidad en la base de clientes a largo plazo.\n",
    "\n",
    "Para abordar esta problemática, es crucial identificar las razones detrás de la deserción y desarrollar estrategias para mejorar la retención de clientes.\n",
    "\n",
    "### Estudiante: Diego Felipe Benavides"
   ]
  },
  {
   "cell_type": "markdown",
   "metadata": {
    "id": "TBsud25XSR0w"
   },
   "source": [
    "**Entrega del Trabajo**\n",
    "\n",
    "Los estudiantes deben trabajar en grupos de entre 2 y 4 personas. Cada grupo deberá subir su trabajo a un repositorio de GitHub, asegurándose de que el código y los archivos necesarios estén bien organizados y documentados. Posteriormente, deberán enviar el enlace del repositorio en la plataforma Canvas para su evaluación.\n",
    "\n",
    "Instrucciones para la entrega:\n",
    "\n",
    "Crear un repositorio en GitHub con un nombre descriptivo para el proyecto.\n",
    "\n",
    "Subir el código en Jupyter Notebook (.ipynb) o en formato Python (.py).\n",
    "\n",
    "Incluir un archivo README.md con una breve descripción del trabajo y las instrucciones de ejecución.\n",
    "\n",
    "Compartir el enlace del repositorio en Canvas dentro del plazo establecido.\n",
    "\n"
   ]
  },
  {
   "cell_type": "markdown",
   "metadata": {
    "id": "R1eyqBGSScta"
   },
   "source": [
    "**Descripción de las variables del dataset telecom_churn**\n",
    "\n",
    "El dataset telecom_churn contiene información detallada sobre clientes de una empresa de telecomunicaciones, incluyendo datos generales, planes contratados, uso del servicio telefónico y llamadas al servicio al cliente. Su propósito principal es analizar patrones de deserción de clientes, identificados a través de la variable churn, que indica si un cliente ha abandonado la empresa (1) o sigue siendo cliente (0).\n",
    "\n",
    "Dentro del dataset, encontramos información general como el estado (state) donde reside el cliente, el código de área (area code), y el número de teléfono (phone number), aunque esta última variable no aporta información útil para el análisis, ya que es un identificador único.\n",
    "\n",
    "Además, el dataset registra el tiempo que un cliente ha estado en la empresa a través de la variable account length, lo que puede ayudar a analizar si la duración del contrato influye en la deserción. También se incluyen detalles sobre los planes contratados, como si el cliente tiene un plan internacional (international plan), que le permite realizar llamadas internacionales, o un buzón de voz (voice mail plan), que le permite recibir mensajes de voz.\n",
    "\n",
    "En cuanto al uso del servicio, se registran datos detallados sobre el tiempo en llamadas y los costos asociados. Se divide en tres períodos del día: diurno (total day minutes, total day calls, total day charge), vespertino (total eve minutes, total eve calls, total eve charge) y nocturno (total night minutes, total night calls, total night charge), lo que permite evaluar si hay patrones de consumo que influyen en la deserción. También se incluye información sobre el uso del servicio internacional, con variables como total intl minutes (minutos en llamadas internacionales), total intl calls (cantidad de llamadas internacionales) y total intl charge (costos por llamadas internacionales).\n",
    "\n",
    "Otro aspecto clave del dataset es el número de llamadas al servicio al cliente (customer service calls), ya que una mayor cantidad de llamadas puede indicar insatisfacción y estar relacionada con la decisión del cliente de abandonar la empresa.\n",
    "\n",
    "Finalmente, la variable más importante del análisis es churn, que indica si un cliente ha desertado de la empresa. A partir de esta variable, podemos analizar qué factores influyen en la deserción y encontrar patrones en los clientes que tienen mayor probabilidad de abandonar el servicio.\n"
   ]
  },
  {
   "cell_type": "markdown",
   "metadata": {
    "id": "-gqRGJ8yFs5Y"
   },
   "source": [
    "**Exploración y Limpieza de Datos**\n",
    "\n",
    "Cargar y explorar el dataset\n",
    "\n",
    "Importa Pandas y carga el dataset telecom_churn.csv en un DataFrame.\n",
    "\n",
    "Muestra las primeras 5 filas del DataFrame.\n",
    "\n",
    "Verifica cuántas filas y columnas tiene el dataset.\n",
    "\n",
    "Muestra información general del dataset, incluyendo los tipos de datos.\n",
    "\n",
    "Identifica si hay valores nulos en alguna columna."
   ]
  },
  {
   "cell_type": "code",
   "execution_count": 43,
   "metadata": {
    "id": "wuoyvrE0vQ09",
    "scrolled": true
   },
   "outputs": [
    {
     "name": "stdout",
     "output_type": "stream",
     "text": [
      "\n",
      "Dimensión del conjunto de datos (filas, columnas):\n",
      "(3333, 21)\n",
      "\n",
      "Información general del DataFrame:\n",
      "<class 'pandas.core.frame.DataFrame'>\n",
      "RangeIndex: 3333 entries, 0 to 3332\n",
      "Data columns (total 21 columns):\n",
      " #   Column                  Non-Null Count  Dtype  \n",
      "---  ------                  --------------  -----  \n",
      " 0   state                   3333 non-null   object \n",
      " 1   account length          3333 non-null   int64  \n",
      " 2   area code               3333 non-null   int64  \n",
      " 3   phone number            3333 non-null   object \n",
      " 4   international plan      3333 non-null   object \n",
      " 5   voice mail plan         3333 non-null   object \n",
      " 6   number vmail messages   3333 non-null   int64  \n",
      " 7   total day minutes       3333 non-null   float64\n",
      " 8   total day calls         3333 non-null   int64  \n",
      " 9   total day charge        3333 non-null   float64\n",
      " 10  total eve minutes       3333 non-null   float64\n",
      " 11  total eve calls         3333 non-null   int64  \n",
      " 12  total eve charge        3333 non-null   float64\n",
      " 13  total night minutes     3333 non-null   float64\n",
      " 14  total night calls       3333 non-null   int64  \n",
      " 15  total night charge      3333 non-null   float64\n",
      " 16  total intl minutes      3333 non-null   float64\n",
      " 17  total intl calls        3333 non-null   int64  \n",
      " 18  total intl charge       3333 non-null   float64\n",
      " 19  customer service calls  3333 non-null   int64  \n",
      " 20  churn                   3333 non-null   bool   \n",
      "dtypes: bool(1), float64(8), int64(8), object(4)\n",
      "memory usage: 524.2+ KB\n"
     ]
    },
    {
     "data": {
      "text/plain": [
       "state                     0\n",
       "account length            0\n",
       "area code                 0\n",
       "phone number              0\n",
       "international plan        0\n",
       "voice mail plan           0\n",
       "number vmail messages     0\n",
       "total day minutes         0\n",
       "total day calls           0\n",
       "total day charge          0\n",
       "total eve minutes         0\n",
       "total eve calls           0\n",
       "total eve charge          0\n",
       "total night minutes       0\n",
       "total night calls         0\n",
       "total night charge        0\n",
       "total intl minutes        0\n",
       "total intl calls          0\n",
       "total intl charge         0\n",
       "customer service calls    0\n",
       "churn                     0\n",
       "dtype: int64"
      ]
     },
     "metadata": {},
     "output_type": "display_data"
    }
   ],
   "source": [
    "# Solución propuesta\n",
    "\n",
    "#Importar libreria\n",
    "import pandas as pd \n",
    "\n",
    "#Cargar el conjunto de datos\n",
    "df=pd.read_csv('../Datos/telecom_churn.csv')\n",
    "\n",
    "\n",
    "# dimensión del conjunto de datos (filas, columnas)\n",
    "print(\"\\nDimensión del conjunto de datos (filas, columnas):\")\n",
    "print(df.shape)\n",
    "\n",
    "# información general del DataFrame\n",
    "print(\"\\nInformación general del DataFrame:\")\n",
    "df.info()\n",
    "\n",
    "# Identificar valores faltantes\n",
    "display(df.isnull().sum())\n",
    "\n"
   ]
  },
  {
   "cell_type": "code",
   "execution_count": 44,
   "metadata": {},
   "outputs": [
    {
     "data": {
      "text/html": [
       "<div>\n",
       "<style scoped>\n",
       "    .dataframe tbody tr th:only-of-type {\n",
       "        vertical-align: middle;\n",
       "    }\n",
       "\n",
       "    .dataframe tbody tr th {\n",
       "        vertical-align: top;\n",
       "    }\n",
       "\n",
       "    .dataframe thead th {\n",
       "        text-align: right;\n",
       "    }\n",
       "</style>\n",
       "<table border=\"1\" class=\"dataframe\">\n",
       "  <thead>\n",
       "    <tr style=\"text-align: right;\">\n",
       "      <th></th>\n",
       "      <th>state</th>\n",
       "      <th>account length</th>\n",
       "      <th>area code</th>\n",
       "      <th>phone number</th>\n",
       "      <th>international plan</th>\n",
       "      <th>voice mail plan</th>\n",
       "      <th>number vmail messages</th>\n",
       "      <th>total day minutes</th>\n",
       "      <th>total day calls</th>\n",
       "      <th>total day charge</th>\n",
       "      <th>...</th>\n",
       "      <th>total eve calls</th>\n",
       "      <th>total eve charge</th>\n",
       "      <th>total night minutes</th>\n",
       "      <th>total night calls</th>\n",
       "      <th>total night charge</th>\n",
       "      <th>total intl minutes</th>\n",
       "      <th>total intl calls</th>\n",
       "      <th>total intl charge</th>\n",
       "      <th>customer service calls</th>\n",
       "      <th>churn</th>\n",
       "    </tr>\n",
       "  </thead>\n",
       "  <tbody>\n",
       "    <tr>\n",
       "      <th>0</th>\n",
       "      <td>KS</td>\n",
       "      <td>128</td>\n",
       "      <td>415</td>\n",
       "      <td>382-4657</td>\n",
       "      <td>no</td>\n",
       "      <td>yes</td>\n",
       "      <td>25</td>\n",
       "      <td>265.1</td>\n",
       "      <td>110</td>\n",
       "      <td>45.07</td>\n",
       "      <td>...</td>\n",
       "      <td>99</td>\n",
       "      <td>16.78</td>\n",
       "      <td>244.7</td>\n",
       "      <td>91</td>\n",
       "      <td>11.01</td>\n",
       "      <td>10.0</td>\n",
       "      <td>3</td>\n",
       "      <td>2.70</td>\n",
       "      <td>1</td>\n",
       "      <td>False</td>\n",
       "    </tr>\n",
       "    <tr>\n",
       "      <th>1</th>\n",
       "      <td>OH</td>\n",
       "      <td>107</td>\n",
       "      <td>415</td>\n",
       "      <td>371-7191</td>\n",
       "      <td>no</td>\n",
       "      <td>yes</td>\n",
       "      <td>26</td>\n",
       "      <td>161.6</td>\n",
       "      <td>123</td>\n",
       "      <td>27.47</td>\n",
       "      <td>...</td>\n",
       "      <td>103</td>\n",
       "      <td>16.62</td>\n",
       "      <td>254.4</td>\n",
       "      <td>103</td>\n",
       "      <td>11.45</td>\n",
       "      <td>13.7</td>\n",
       "      <td>3</td>\n",
       "      <td>3.70</td>\n",
       "      <td>1</td>\n",
       "      <td>False</td>\n",
       "    </tr>\n",
       "    <tr>\n",
       "      <th>2</th>\n",
       "      <td>NJ</td>\n",
       "      <td>137</td>\n",
       "      <td>415</td>\n",
       "      <td>358-1921</td>\n",
       "      <td>no</td>\n",
       "      <td>no</td>\n",
       "      <td>0</td>\n",
       "      <td>243.4</td>\n",
       "      <td>114</td>\n",
       "      <td>41.38</td>\n",
       "      <td>...</td>\n",
       "      <td>110</td>\n",
       "      <td>10.30</td>\n",
       "      <td>162.6</td>\n",
       "      <td>104</td>\n",
       "      <td>7.32</td>\n",
       "      <td>12.2</td>\n",
       "      <td>5</td>\n",
       "      <td>3.29</td>\n",
       "      <td>0</td>\n",
       "      <td>False</td>\n",
       "    </tr>\n",
       "    <tr>\n",
       "      <th>3</th>\n",
       "      <td>OH</td>\n",
       "      <td>84</td>\n",
       "      <td>408</td>\n",
       "      <td>375-9999</td>\n",
       "      <td>yes</td>\n",
       "      <td>no</td>\n",
       "      <td>0</td>\n",
       "      <td>299.4</td>\n",
       "      <td>71</td>\n",
       "      <td>50.90</td>\n",
       "      <td>...</td>\n",
       "      <td>88</td>\n",
       "      <td>5.26</td>\n",
       "      <td>196.9</td>\n",
       "      <td>89</td>\n",
       "      <td>8.86</td>\n",
       "      <td>6.6</td>\n",
       "      <td>7</td>\n",
       "      <td>1.78</td>\n",
       "      <td>2</td>\n",
       "      <td>False</td>\n",
       "    </tr>\n",
       "    <tr>\n",
       "      <th>4</th>\n",
       "      <td>OK</td>\n",
       "      <td>75</td>\n",
       "      <td>415</td>\n",
       "      <td>330-6626</td>\n",
       "      <td>yes</td>\n",
       "      <td>no</td>\n",
       "      <td>0</td>\n",
       "      <td>166.7</td>\n",
       "      <td>113</td>\n",
       "      <td>28.34</td>\n",
       "      <td>...</td>\n",
       "      <td>122</td>\n",
       "      <td>12.61</td>\n",
       "      <td>186.9</td>\n",
       "      <td>121</td>\n",
       "      <td>8.41</td>\n",
       "      <td>10.1</td>\n",
       "      <td>3</td>\n",
       "      <td>2.73</td>\n",
       "      <td>3</td>\n",
       "      <td>False</td>\n",
       "    </tr>\n",
       "  </tbody>\n",
       "</table>\n",
       "<p>5 rows × 21 columns</p>\n",
       "</div>"
      ],
      "text/plain": [
       "  state  account length  area code phone number international plan  \\\n",
       "0    KS             128        415     382-4657                 no   \n",
       "1    OH             107        415     371-7191                 no   \n",
       "2    NJ             137        415     358-1921                 no   \n",
       "3    OH              84        408     375-9999                yes   \n",
       "4    OK              75        415     330-6626                yes   \n",
       "\n",
       "  voice mail plan  number vmail messages  total day minutes  total day calls  \\\n",
       "0             yes                     25              265.1              110   \n",
       "1             yes                     26              161.6              123   \n",
       "2              no                      0              243.4              114   \n",
       "3              no                      0              299.4               71   \n",
       "4              no                      0              166.7              113   \n",
       "\n",
       "   total day charge  ...  total eve calls  total eve charge  \\\n",
       "0             45.07  ...               99             16.78   \n",
       "1             27.47  ...              103             16.62   \n",
       "2             41.38  ...              110             10.30   \n",
       "3             50.90  ...               88              5.26   \n",
       "4             28.34  ...              122             12.61   \n",
       "\n",
       "   total night minutes  total night calls  total night charge  \\\n",
       "0                244.7                 91               11.01   \n",
       "1                254.4                103               11.45   \n",
       "2                162.6                104                7.32   \n",
       "3                196.9                 89                8.86   \n",
       "4                186.9                121                8.41   \n",
       "\n",
       "   total intl minutes  total intl calls  total intl charge  \\\n",
       "0                10.0                 3               2.70   \n",
       "1                13.7                 3               3.70   \n",
       "2                12.2                 5               3.29   \n",
       "3                 6.6                 7               1.78   \n",
       "4                10.1                 3               2.73   \n",
       "\n",
       "   customer service calls  churn  \n",
       "0                       1  False  \n",
       "1                       1  False  \n",
       "2                       0  False  \n",
       "3                       2  False  \n",
       "4                       3  False  \n",
       "\n",
       "[5 rows x 21 columns]"
      ]
     },
     "execution_count": 44,
     "metadata": {},
     "output_type": "execute_result"
    }
   ],
   "source": [
    "# Imprime las primeras filas del DataFrame\n",
    "df.head()\n"
   ]
  },
  {
   "cell_type": "markdown",
   "metadata": {
    "id": "PIGXq-ijFgb4"
   },
   "source": [
    "**Análisis de Churn y Factores Relacionados**\n",
    "\n",
    "Calcula el porcentaje de clientes que han desertado (churn = 1).\n",
    "\n",
    "Identifica si los clientes con plan internacional (international plan) tienen mayor tasa de deserción.\n",
    "\n",
    "Identifica si los clientes con buzón de voz (voice mail plan) tienen menor tasa de deserción."
   ]
  },
  {
   "cell_type": "code",
   "execution_count": 46,
   "metadata": {
    "id": "3_TFqdwBwUD-"
   },
   "outputs": [
    {
     "name": "stdout",
     "output_type": "stream",
     "text": [
      "\n",
      "Porcentaje de clientes que han desertado:\n",
      "churn\n",
      "False    85.51\n",
      "True     14.49\n",
      "Name: proportion, dtype: float64\n"
     ]
    }
   ],
   "source": [
    "# Calcula el porcentaje de clientes que han desertado\n",
    "churn_porcentaje = (df['churn'].value_counts(normalize=True) * 100).round(2)\n",
    "print(f\"\\nPorcentaje de clientes que han desertado:\\n{churn_porcentaje}\")\n",
    "\n",
    "#el porcentaje de clientes desertados es de 14.5%"
   ]
  },
  {
   "cell_type": "code",
   "execution_count": 47,
   "metadata": {},
   "outputs": [
    {
     "name": "stdout",
     "output_type": "stream",
     "text": [
      "international plan  churn\n",
      "no                  False    88.504983\n",
      "                    True     11.495017\n",
      "yes                 False    57.585139\n",
      "                    True     42.414861\n",
      "Name: proportion, dtype: float64\n",
      "\n",
      "Tasa deserción de clientes con international plan 42.41%\n"
     ]
    }
   ],
   "source": [
    "#Identifica si los clientes con plan internacional (international plan) tienen mayor tasa de deserción.\n",
    "international_plan = df.groupby('international plan')['churn'].value_counts(normalize = True)*100\n",
    "\n",
    "#Imprime valores\n",
    "print(international_plan)\n",
    "\n",
    "#Imprime resultados\n",
    "print(f'\\nTasa deserción de clientes con international plan {international_plan.iloc[3].round(2)}%')"
   ]
  },
  {
   "cell_type": "code",
   "execution_count": 48,
   "metadata": {},
   "outputs": [
    {
     "name": "stdout",
     "output_type": "stream",
     "text": [
      "voice mail plan  churn\n",
      "no               False    83.284944\n",
      "                 True     16.715056\n",
      "yes              False    91.323210\n",
      "                 True      8.676790\n",
      "Name: proportion, dtype: float64\n",
      "\n",
      "La tasa de desercion de clientes con buzon de voz es 8.68%\n"
     ]
    }
   ],
   "source": [
    "#Identifica si los clientes con buzón de voz (voice mail plan) tienen menor tasa de deserción.\n",
    "voice_mail_plan = df.groupby('voice mail plan')['churn'].value_counts(normalize = True) * 100\n",
    "\n",
    "#Imprime valores\n",
    "print(voice_mail_plan)\n",
    "\n",
    "#Imprimir resultado\n",
    "print(f'\\nLa tasa de desercion de clientes con buzon de voz es {voice_mail_plan.iloc[3].round(2)}%')"
   ]
  },
  {
   "cell_type": "code",
   "execution_count": 49,
   "metadata": {},
   "outputs": [
    {
     "name": "stdout",
     "output_type": "stream",
     "text": [
      "voice mail plan  churn\n",
      "no               False    83.284944\n",
      "                 True     16.715056\n",
      "yes              False    91.323210\n",
      "                 True      8.676790\n",
      "Name: proportion, dtype: float64\n",
      "\n",
      "La tasa de desercion de clientes con buzon de voz es 8.68%\n"
     ]
    }
   ],
   "source": [
    "# Usuarios con voice mail que han desertado\n",
    "voice_mail_plan = df.groupby('voice mail plan')['churn'].value_counts(normalize = True) * 100\n",
    "\n",
    "#Imprime valores de voice mail quehan desertado \n",
    "print(voice_mail_plan)\n",
    "\n",
    "#Imprimir resultados\n",
    "print(f'\\nLa tasa de desercion de clientes con buzon de voz es {voice_mail_plan.iloc[3].round(2)}%')"
   ]
  },
  {
   "cell_type": "markdown",
   "metadata": {
    "id": "yL8Y_juFFup7"
   },
   "source": [
    "**Análisis de la Duración del Servicio y Deserción**\n",
    "\n",
    "¿Cuál es la duración promedio de la cuenta (account length) entre clientes que desertaron y los que permanecen?\n",
    "\n",
    "¿Los clientes con cuentas más antiguas tienen más probabilidades de desertar?"
   ]
  },
  {
   "cell_type": "code",
   "execution_count": 51,
   "metadata": {},
   "outputs": [
    {
     "name": "stdout",
     "output_type": "stream",
     "text": [
      "churn\n",
      "False    100.793684\n",
      "True     102.664596\n",
      "Name: account length, dtype: float64\n",
      "\n",
      "Promedio  de para clientes que permanecen es de 100.79\n",
      "Promedio  de para clientes que desertaron fue de 102.66\n"
     ]
    }
   ],
   "source": [
    "# ¿Cuál es la duración promedio de la cuenta (account length) entre clientes que desertaron y los que permanecen?\n",
    "#¿Los clientes con cuentas más antiguas tienen más probabilidades de desertar?\n",
    "\n",
    "# Calcular promedio de account length para usaurios que se fueron y se quedaron.\n",
    "account_length = df.groupby('churn')['account length'].mean()\n",
    "\n",
    "#Imprimir resultados\n",
    "print(account_length)\n",
    "print(f'\\nPromedio  de para clientes que permanecen es de {account_length.iloc[0].round(2)}')\n",
    "print(f'Promedio  de para clientes que desertaron fue de {account_length.iloc[1].round(2)}')"
   ]
  },
  {
   "cell_type": "code",
   "execution_count": null,
   "metadata": {},
   "outputs": [],
   "source": []
  },
  {
   "cell_type": "markdown",
   "metadata": {
    "id": "vyaa82K0GF6B"
   },
   "source": [
    "**Relación entre Deserción y Uso del Servicio**\n",
    "\n",
    "Compara la cantidad de minutos usados en llamadas diurnas (total day minutes) entre clientes con y sin churn.\n",
    "\n",
    "Compara la cantidad de minutos usados en llamadas nocturnas (total night minutes).\n",
    "\n",
    "Compara el número total de llamadas (total day calls) entre clientes con y sin churn."
   ]
  },
  {
   "cell_type": "code",
   "execution_count": 53,
   "metadata": {
    "id": "d4aPKcv2GrpL"
   },
   "outputs": [
    {
     "name": "stdout",
     "output_type": "stream",
     "text": [
      "Suma total de 'total day minutes' para churn = True: 99939.5\n",
      "Suma total de 'total day minutes' para churn = False: 499250.89999999997\n"
     ]
    }
   ],
   "source": [
    "# Compara la cantidad de minutos usados en llamadas diurnas (total day minutes) entre clientes con y sin churn.\n",
    "\n",
    "(df['churn'].value_counts(normalize=True) * 100).round(2)\n",
    "total_llamadas_diurnas_churn_true = df[df['churn'] == True]['total day minutes'].sum()\n",
    "total_llamadas_diurnas_churn_false = df[df['churn'] == False]['total day minutes'].sum()\n",
    "\n",
    "print(f\"Suma total de 'total day minutes' para churn = True: {total_llamadas_diurnas_churn_true}\")\n",
    "print(f\"Suma total de 'total day minutes' para churn = False: {total_llamadas_diurnas_churn_false}\")\n",
    "\n"
   ]
  },
  {
   "cell_type": "code",
   "execution_count": 54,
   "metadata": {},
   "outputs": [
    {
     "name": "stdout",
     "output_type": "stream",
     "text": [
      "Suma total de 'total night minutes' para churn = True: 99126.9\n",
      "Suma total de 'total night minutes' para churn = False: 570379.6\n"
     ]
    }
   ],
   "source": [
    "#Compara la cantidad de minutos usados en llamadas nocturnas (total night minutes).\n",
    "\n",
    "(df['churn'].value_counts(normalize=True) * 100).round(2)\n",
    "total_llamadas_nocturnas_churn_true = df[df['churn'] == True]['total night minutes'].sum()\n",
    "total_llamadas_nocturnas_churn_false = df[df['churn'] == False]['total night minutes'].sum()\n",
    "\n",
    "print(f\"Suma total de 'total night minutes' para churn = True: {total_llamadas_nocturnas_churn_true}\")\n",
    "print(f\"Suma total de 'total night minutes' para churn = False: {total_llamadas_nocturnas_churn_false}\")"
   ]
  },
  {
   "cell_type": "code",
   "execution_count": 55,
   "metadata": {},
   "outputs": [
    {
     "name": "stdout",
     "output_type": "stream",
     "text": [
      "churn\n",
      "False    285807\n",
      "True      48945\n",
      "Name: total day calls, dtype: int64\n",
      "\n",
      "los clientes no churn realizacion un total 285807 llamadas\n",
      "los clientes churn usaron un un total 48945 llamadas\n"
     ]
    }
   ],
   "source": [
    "#Compara el número total de llamadas (total day calls) entre clientes con y sin churn.\n",
    "total_day_calls =df.groupby('churn')['total day calls'].sum()\n",
    "print(total_day_calls)\n",
    "print(f'\\nlos clientes no churn realizacion un total {total_day_calls.iloc[0]} llamadas')\n",
    "print(f'los clientes churn usaron un un total {total_day_calls.iloc[1]} llamadas')"
   ]
  },
  {
   "cell_type": "markdown",
   "metadata": {
    "id": "aKl9LnZgGsDT"
   },
   "source": [
    "**Impacto de las Llamadas al Servicio al Cliente en la Deserción**\n",
    "\n",
    "Calcula el número promedio de llamadas al servicio al cliente (customer service calls) entre clientes que desertaron y los que no.\n",
    "\n",
    "Divide los clientes en dos grupos:\n",
    "\n",
    "- Grupo 1: Clientes que llamaron más de 3 veces al servicio al cliente.\n",
    "- Grupo 2: Clientes que llamaron 3 veces o menos.\n",
    "Compara la tasa de churn entre ambos grupos."
   ]
  },
  {
   "cell_type": "code",
   "execution_count": 59,
   "metadata": {
    "id": "ac9qDXgrGz-M"
   },
   "outputs": [
    {
     "name": "stdout",
     "output_type": "stream",
     "text": [
      "\n",
      "Número promedio de llamadas al servicio al cliente por deserción:\n",
      "churn\n",
      "False    1.449825\n",
      "True     2.229814\n",
      "Name: customer service calls, dtype: float64\n",
      "\n",
      "Tasa de deserción para el Grupo 1 (más de 3 llamadas):\n",
      "churn\n",
      "True     51.69\n",
      "False    48.31\n",
      "Name: proportion, dtype: float64\n",
      "\n",
      "Tasa de deserción para el Grupo 2 (3 o menos llamadas):\n",
      "churn\n",
      "False    88.75\n",
      "True     11.25\n",
      "Name: proportion, dtype: float64\n"
     ]
    }
   ],
   "source": [
    "\n",
    "# Grupo 1: Clientes que llamaron más de 3 veces al servicio al cliente.\n",
    "# Grupo 2: Clientes que llamaron 3 veces o menos. Compara la tasa de churn entre ambos grupos.\n",
    "\n",
    "# Calcular promedios por grupo\n",
    "prom_llamadas_sc = df.groupby('churn')['customer service calls'].mean()\n",
    "print(f\"\\nNúmero promedio de llamadas al servicio al cliente por deserción:\\n{prom_llamadas_sc}\")\n",
    "\n",
    "# División de clientes en dos grupos\n",
    "grupo_1 = df[df['customer service calls'] > 3]\n",
    "grupo_2 = df[df['customer service calls'] <= 3]\n",
    "\n",
    "# Cálculo de tasa churn\n",
    "tasa_churn_grupo_1 = (grupo_1['churn'].value_counts(normalize=True) * 100).round(2)\n",
    "tasa_churn_grupo_2 = (grupo_2['churn'].value_counts(normalize=True) * 100).round(2)\n",
    "\n",
    "print(f\"\\nTasa de deserción para el Grupo 1 (más de 3 llamadas):\\n{tasa_churn_grupo_1}\")\n",
    "print(f\"\\nTasa de deserción para el Grupo 2 (3 o menos llamadas):\\n{tasa_churn_grupo_2}\")"
   ]
  },
  {
   "cell_type": "markdown",
   "metadata": {
    "id": "U7oTziiyG0Wb"
   },
   "source": [
    "**Análisis del Costo de las Llamadas y Churn**\n",
    "\n",
    "Compara el costo total de llamadas diurnas (total day charge) entre clientes con y sin churn.\n",
    "\n",
    "Compara el costo total de llamadas nocturnas (total night charge).\n",
    "\n",
    "¿Los clientes con mayor gasto en llamadas internacionales (total intl charge) tienen más probabilidades de desertar?"
   ]
  },
  {
   "cell_type": "code",
   "execution_count": null,
   "metadata": {},
   "outputs": [],
   "source": [
    "#Punto eliminado de acuerdo con instrucción del docente"
   ]
  }
 ],
 "metadata": {
  "colab": {
   "provenance": []
  },
  "kernelspec": {
   "display_name": "Python 3 (ipykernel)",
   "language": "python",
   "name": "python3"
  },
  "language_info": {
   "codemirror_mode": {
    "name": "ipython",
    "version": 3
   },
   "file_extension": ".py",
   "mimetype": "text/x-python",
   "name": "python",
   "nbconvert_exporter": "python",
   "pygments_lexer": "ipython3",
   "version": "3.12.4"
  }
 },
 "nbformat": 4,
 "nbformat_minor": 4
}
